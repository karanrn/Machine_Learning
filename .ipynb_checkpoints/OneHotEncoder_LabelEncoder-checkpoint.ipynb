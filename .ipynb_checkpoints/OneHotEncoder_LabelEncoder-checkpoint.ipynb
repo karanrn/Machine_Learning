{
 "cells": [
  {
   "cell_type": "markdown",
   "metadata": {},
   "source": [
    "### LabelEncoder and OneHotEncoder\n",
    "LabelEncoder: <span style=\"color:green\"><i>sklearn.preprocessing.LabelEncoder</i></span><br>\n",
    "OneHotEncoder: <span style=\"color:green\"><i>sklearn.preprocessing.OneHotEncoder</i></span>\n",
    "<br><br>\n",
    "\n",
    "These encoders are used to turn categorical values into numerical for models like regression models.<br>\n",
    "Example : The size of T-shirts might be (S,M,L,XL,XXL) with respect to other numeric attributes like cost, manufacturing date and so.<br>\n",
    "LabelEncoder encodes categorical value follows ordinality, example (S,M,L,XL,XXL) --> (0,1,2,3,4).<br>\n",
    "Whereas, OneHotEncoder enodes in binary i,e (0,1) based on the instance record.\n",
    ">   For Example consider one instance of shirt dimension:<br>\n",
    ">     [24(length), 12(breadth), S(size)] ---> [24, 12, 1, 0, 0, 0, 0]<br>\n",
    ">     [30, 18, M] ---> [30, 18, 0, 1, 0, 0, 0], Similarly for others\n",
    "\n",
    "***\n",
    "Below are code snippets to explain the same."
   ]
  },
  {
   "cell_type": "code",
   "execution_count": 1,
   "metadata": {},
   "outputs": [
    {
     "data": {
      "text/plain": [
       "array([[12, 34, 45, 'BAN'],\n",
       "       [12, 33, 22, 'IND'],\n",
       "       [11, 11, 10, 'PAK']], dtype=object)"
      ]
     },
     "execution_count": 1,
     "metadata": {},
     "output_type": "execute_result"
    }
   ],
   "source": [
    "from sklearn.preprocessing import LabelEncoder,OneHotEncoder\n",
    "import pandas as pd\n",
    "X=[[12,34,45,\"BAN\"],[12,33,22,\"IND\"],[11,11,10,\"PAK\"]]\n",
    "X = pd.DataFrame(X)\n",
    "X1 = X.iloc[:].values\n",
    "X2 = X1\n",
    "X1[:]"
   ]
  },
  {
   "cell_type": "code",
   "execution_count": 2,
   "metadata": {},
   "outputs": [
    {
     "data": {
      "text/plain": [
       "array([[12, 34, 45, 0],\n",
       "       [12, 33, 22, 1],\n",
       "       [11, 11, 10, 2]], dtype=object)"
      ]
     },
     "execution_count": 2,
     "metadata": {},
     "output_type": "execute_result"
    }
   ],
   "source": [
    "labelencoder = LabelEncoder()\n",
    "X1[:,3] = labelencoder.fit_transform(X1[:,3])\n",
    "X1"
   ]
  },
  {
   "cell_type": "code",
   "execution_count": 3,
   "metadata": {},
   "outputs": [
    {
     "data": {
      "text/plain": [
       "array([[  1.,   0.,   0.,  12.,  34.,  45.],\n",
       "       [  0.,   1.,   0.,  12.,  33.,  22.],\n",
       "       [  0.,   0.,   1.,  11.,  11.,  10.]])"
      ]
     },
     "execution_count": 3,
     "metadata": {},
     "output_type": "execute_result"
    }
   ],
   "source": [
    "onehotencoder = OneHotEncoder(categorical_features=[3])\n",
    "X2 = onehotencoder.fit_transform(X2).toarray()\n",
    "X2"
   ]
  }
 ],
 "metadata": {
  "kernelspec": {
   "display_name": "Python 3",
   "language": "python",
   "name": "python3"
  },
  "language_info": {
   "codemirror_mode": {
    "name": "ipython",
    "version": 3
   },
   "file_extension": ".py",
   "mimetype": "text/x-python",
   "name": "python",
   "nbconvert_exporter": "python",
   "pygments_lexer": "ipython3",
   "version": "3.5.2"
  }
 },
 "nbformat": 4,
 "nbformat_minor": 2
}
