{
 "cells": [
  {
   "cell_type": "markdown",
   "metadata": {},
   "source": [
    "## Machine Learning\n",
    "\n",
    "Why so much of hype on this topic? What is Machine Learning?<br>\n",
    "Machine Learning is an algorithm that can learn from data without relying on rules-based programming.<br>\n",
    "It is technique or way in which we write algorithms or code such that the program or Machine learns from the data without human intervention. The Machine tries to find pattern(s) from the data, based on these pattern(s) it helps in predicting or recommending future outcomes.<br><br>\n",
    "\n",
    "Some of the best known examples of Machine Learning applications are:\n",
    "1. Youtube's Recommendations.\n",
    "2. Email Spam filtering.\n",
    "3. Credit card fraudulent transactions.\n",
    "4. Health records filtering and many more.\n",
    "\n",
    "With the amount of data generated in the present times, it is hard for humans to do analysis or find patterns from the large amounts of data.The machine learning algorithms are the best option because of it's efficiency and minimum involvement of humans.<br><br>\n",
    "\n",
    "\n",
    "There are three types of Machine learning algorithms (broadly):\n",
    "    \n",
    "1. Supervised Learning <br>\n",
    "    These algorithms consists of target/output variable which is to predicted from other predictors varaiables. The     data contains both predictors and actual outcomes of it, then algorithm generates function mapping these           predictors variables to target variable. <br>\n",
    "    The best example is predicting house value based on size of the house.<br>\n",
    "    Some of the Supervised Learning algorithms are Regression, Logistic regression and Decision trees.<br><br>\n",
    "    \n",
    "2. Unsupervised Learning <br>\n",
    "    Unlike supervised Learning algorithms, these algorithms doesnot consists of target/output variable. These           algorithms are best used for clustering of data based on similarties within the data.<br>\n",
    "    The best example is credit card fraudulent transactions.<br>\n",
    "    Some of the Unsupervised Learning algorithms are K-means, Neural Networks and Hidden Markov models<br><br>\n",
    "\n",
    "3. Reinforcement Learning<br>\n",
    "    Unlike the other two, this algorithm learns by trail and error method. It is exposed to environment and it         learns from it's past data. It learns and optimizes to solve the problem. <br> \n",
    "    The best example is self driving cars. <br>\n",
    "    Some of the Reinforcement Learning algorithms are Markov Decision models, Q-learning.\n",
    "<br><br>\n",
    "\n",
    "<img src=\"machinelearningtypes.png\">"
   ]
  }
 ],
 "metadata": {
  "kernelspec": {
   "display_name": "Python 3",
   "language": "python",
   "name": "python3"
  },
  "language_info": {
   "codemirror_mode": {
    "name": "ipython",
    "version": 3
   },
   "file_extension": ".py",
   "mimetype": "text/x-python",
   "name": "python",
   "nbconvert_exporter": "python",
   "pygments_lexer": "ipython3",
   "version": "3.5.2"
  }
 },
 "nbformat": 4,
 "nbformat_minor": 2
}
