{
 "cells": [
  {
   "cell_type": "markdown",
   "metadata": {},
   "source": [
    "## Linear Regression\n",
    ">                                                                       Authored by Karan R Nadagoudar\n",
    "\n",
    "**Linear Regression** is a statistical way of finding <u>relationship</u> between dependent and independent variable.<br>\n",
    "This method is used to predict outcome (dependent variable) from independent/predictor variable. It is called Linear Regression because it deals with linear data which means dependent variable varies linearly when compared to independent variable. <br>\n",
    "> _For example_ : Salary(lakhs/annum) = 3 + Experience(years) * 1.5 <br>\n",
    "   The above example depicts the relationship betweeen Salary (dependent variable) and Experience (independent variable).\n",
    "Salary changes linearly with Experience which shows the corelation between the dependent and independent variable\n",
    "\n",
    "<br>\n",
    "There are few assumptions that linear regression line data should statisfy:\n",
    " - <u>Linearity</u>\n",
    "     - The relationship between dependent and independent variable should linear\n",
    " - [Homoscedasticity](http://www.statsmakemecry.com/smmctheblog/confusing-stats-terms-explained-heteroscedasticity-heteroske.html)\n",
    "     - It refers to the circumstance in which the variability of a variable is unequal across the range of values of a second variable that predicts it.\n",
    " - <u>Normality of error distribution</u>\n",
    "     - Distribution of differences between Actual & Predicted values (Residuals) should be [normally distributed](https://www.coursera.org/learn/machine-learning/lecture/ZYAyC/gaussian-distribution).\n",
    " - <u>Statistical independence of errors</u>\n",
    "     - The error terms (residuals) should not have any correlation among themselves. The consecutive error terms (residuals) should be independent of each other.\n",
    "\n",
    "<br>\n",
    "***\n",
    "A simple linear regression using scikit-learn library and python by considering a sample dataset comprising of experience and salary records (randomly generated)."
   ]
  },
  {
   "cell_type": "code",
   "execution_count": null,
   "metadata": {
    "collapsed": true
   },
   "outputs": [],
   "source": [
    "import pandas as pd\n",
    "from sklearn.linear_model import LinearRegression   #Linear models ( Regression )\n",
    "from sklearn.cross_validation import train_test_split #module to split dataset\n",
    "import matplotlib.pyplot as plt"
   ]
  },
  {
   "cell_type": "markdown",
   "metadata": {},
   "source": [
    "Importing a sample dataset using pandas."
   ]
  },
  {
   "cell_type": "code",
   "execution_count": 2,
   "metadata": {},
   "outputs": [
    {
     "name": "stdout",
     "output_type": "stream",
     "text": [
      "Rows: 14 Columns: 14\n"
     ]
    }
   ],
   "source": [
    "dataset = pd.read_csv('salary.csv')\n",
    "print(\"Rows:\",dataset.shape[0],\"Columns:\",dataset.shape[0])"
   ]
  },
  {
   "cell_type": "code",
   "execution_count": 3,
   "metadata": {
    "collapsed": true
   },
   "outputs": [],
   "source": [
    "#separating out independent variable\n",
    "X=dataset.iloc[:,:-1].values\n",
    "Y=dataset.iloc[:,1].values"
   ]
  },
  {
   "cell_type": "markdown",
   "metadata": {},
   "source": [
    "Visualising dataset using matplotlib"
   ]
  },
  {
   "cell_type": "code",
   "execution_count": 4,
   "metadata": {},
   "outputs": [
    {
     "data": {
      "image/png": "[encoded data removed]",
      "text/plain": [
       "<matplotlib.figure.Figure at 0x7ff5e79dfba8>"
      ]
     },
     "metadata": {},
     "output_type": "display_data"
    }
   ],
   "source": [
    "plt.plot(X,Y,'ro')\n",
    "plt.title(\"Experience(No.of years) vs Salary(lakhs/annum)\")\n",
    "plt.xlabel(\"Salary (lakhs per annum)\")\n",
    "plt.ylabel(\"Experience (No. of Years)\")\n",
    "plt.show()"
   ]
  },
  {
   "cell_type": "markdown",
   "metadata": {},
   "source": [
    "Every dataset should be divided into training and testing dataset. Training data set is used to train your model whereas testing dataset is used test and confirm the performance of the model.<br>\n",
    "Best ratio of splitting training and testing data is **80:20** or **70:30**\n",
    "We will be using scikit-learn module train_test_split from cross validation to split our dataset accordingly.\n",
    "We use random state for random sampling."
   ]
  },
  {
   "cell_type": "code",
   "execution_count": 5,
   "metadata": {},
   "outputs": [
    {
     "name": "stdout",
     "output_type": "stream",
     "text": [
      "test X:\n",
      " [[ 1.]\n",
      " [ 2.]\n",
      " [ 0.]] \n",
      "test Y:\n",
      " [ 4.   5.5  4. ]\n",
      "\n",
      "train X:\n",
      " [[ 1.]\n",
      " [ 2.]\n",
      " [ 0.]] \n",
      "train Y: [  7.5   8.5   8.    7.    5.    6.    5.    3.    8.   10.    7.5]\n"
     ]
    }
   ],
   "source": [
    "X_train, X_test, Y_train, Y_test = train_test_split(X, Y, test_size = 0.2, random_state = 39)\n",
    "print(\"test X:\\n\", X_test, \"\\ntest Y:\\n\", Y_test)\n",
    "print(\"\\ntrain X:\\n\", X_test, \"\\ntrain Y:\", Y_train)"
   ]
  },
  {
   "cell_type": "markdown",
   "metadata": {},
   "source": [
    "Defining Linear regressor from sklearn linear_model and train it by fitting training dataset to it"
   ]
  },
  {
   "cell_type": "code",
   "execution_count": 6,
   "metadata": {},
   "outputs": [
    {
     "data": {
      "text/plain": [
       "LinearRegression(copy_X=True, fit_intercept=True, n_jobs=1, normalize=False)"
      ]
     },
     "execution_count": 6,
     "metadata": {},
     "output_type": "execute_result"
    }
   ],
   "source": [
    "regressor = LinearRegression()\n",
    "regressor.fit(X_train,Y_train)"
   ]
  },
  {
   "cell_type": "markdown",
   "metadata": {},
   "source": [
    "Our linear regression model named regressor is trained with training dataset.<br>\n",
    "Let's visualize the linear regression line in comparison with training dataset"
   ]
  },
  {
   "cell_type": "code",
   "execution_count": 7,
   "metadata": {},
   "outputs": [
    {
     "data": {
      "image/png": "[encoded data removed]",
      "text/plain": [
       "<matplotlib.figure.Figure at 0x7ff5e76c8908>"
      ]
     },
     "metadata": {},
     "output_type": "display_data"
    }
   ],
   "source": [
    "#Visualisong data for training set\n",
    "plt.plot(X_train,Y_train,'ro')\n",
    "plt.plot(X_train,regressor.predict(X_train),'b')\n",
    "plt.title(\"Experience vs Salary (Training set)\")\n",
    "plt.xlabel(\"Experience (No. of Years)\")\n",
    "plt.ylabel(\"Salary (lakhs per annum)\")\n",
    "plt.show()"
   ]
  },
  {
   "cell_type": "markdown",
   "metadata": {},
   "source": [
    "Now let's visualize regressor line with test dataset"
   ]
  },
  {
   "cell_type": "code",
   "execution_count": 8,
   "metadata": {},
   "outputs": [
    {
     "data": {
      "image/png": "[encoded data removed]",
      "text/plain": [
       "<matplotlib.figure.Figure at 0x7ff5e75faf28>"
      ]
     },
     "metadata": {},
     "output_type": "display_data"
    }
   ],
   "source": [
    "#Visualisong data for test set\n",
    "plt.plot(X_test,Y_test,'ro')\n",
    "plt.plot(X_train,regressor.predict(X_train),'b')\n",
    "plt.title(\"Experience vs Salary (Test set)\")\n",
    "plt.xlabel(\"Experience (No. of Years)\")\n",
    "plt.ylabel(\"Salary (lakhs per annum)\")\n",
    "plt.show()"
   ]
  },
  {
   "cell_type": "markdown",
   "metadata": {},
   "source": [
    "<br>Since the model is trained, we can use it to predict results for us"
   ]
  },
  {
   "cell_type": "code",
   "execution_count": 9,
   "metadata": {},
   "outputs": [
    {
     "name": "stdout",
     "output_type": "stream",
     "text": [
      "For experience of 8 years: 11.94 lakhs per annum\n"
     ]
    }
   ],
   "source": [
    "predSalary = regressor.predict(8) #predict salary for experience of 8 years\n",
    "print(\"For experience of 8 years: \"\"%.2f\" %predSalary,\"lakhs per annum\")"
   ]
  },
  {
   "cell_type": "markdown",
   "metadata": {},
   "source": [
    "We have metrics to check the model performance on how well it can predict values:\n",
    " - R – Square ($R^2$)\n",
    "     $R^2$ = $(TSS - RSS)/TSS$ <br>\n",
    "     where TSS: Total sum of squares and RSS: residual sum of squares, it will be translated as below <br>\n",
    "     $R^2 = 1 - (\\sum_{i}{(Yactual_i - Ypred_i)}^2/\\sum_{i}{(Yactual_i - Ymean)}^2)$<br>\n",
    "<br> \n",
    " - Mean Absolute Percentage Error (MAPE)<br>\n",
    "     $MAPE = \\sqrt(\\sum_{i}{(Yactual_i - Ypred_i)}^2/N)$<br>\n",
    "     N is total number of records"
   ]
  },
  {
   "cell_type": "markdown",
   "metadata": {},
   "source": [
    "Let's check model performance using MAPE"
   ]
  },
  {
   "cell_type": "code",
   "execution_count": 10,
   "metadata": {},
   "outputs": [
    {
     "name": "stdout",
     "output_type": "stream",
     "text": [
      "44.778690479553305 %\n"
     ]
    }
   ],
   "source": [
    "from math import sqrt\n",
    "predY = regressor.predict(X_test)\n",
    "diff = []\n",
    "for i in range(len(X_test)):\n",
    "    diff.append((Y_test[i] - predY[i])**2)\n",
    "print(sqrt(sum(diff)/len(X_test))*100,\"%\")"
   ]
  },
  {
   "cell_type": "markdown",
   "metadata": {},
   "source": [
    "We can observe from above results that it is not that efficient with 44.77%<br>\n",
    "But your linear regression model performance improves on the amount of data by statisfying the assumptions of linear regression. So choosing right model with right data can boost the model performance and predict most accurate values.\n",
    "<br>\n",
    "It doesn't mean Linear regression is not useful, it becomes more efficient on linearity of your data and with assumption of linear regression.\n",
    "<br>\n",
    "<br>\n",
    "<u>Best cases where linear regression is more apt model</u>:\n",
    "- Predicting house prices based on increase in size of house\n",
    "- Impact of rainfall amount on number fruits yielded\n",
    "- Impact of rainfall amount on number fruits yielded"
   ]
  },
  {
   "cell_type": "markdown",
   "metadata": {},
   "source": [
    "Sources:\n",
    "- (https://www.dezyre.com/data-science-in-r-programming-tutorial/linear-regression-tutorial)\n",
    "- (https://mickteaching.wordpress.com/2016/04/19/data-need-to-be-normally-distributed-and-other-myths-of-linear-regression/)\n",
    "- (http://scikit-learn.org/stable/auto_examples/linear_model/plot_ols.html)"
   ]
  }
 ],
 "metadata": {
  "kernelspec": {
   "display_name": "Python 3",
   "language": "python",
   "name": "python3"
  },
  "language_info": {
   "codemirror_mode": {
    "name": "ipython",
    "version": 3
   },
   "file_extension": ".py",
   "mimetype": "text/x-python",
   "name": "python",
   "nbconvert_exporter": "python",
   "pygments_lexer": "ipython3",
   "version": "3.5.2"
  }
 },
 "nbformat": 4,
 "nbformat_minor": 2
}
