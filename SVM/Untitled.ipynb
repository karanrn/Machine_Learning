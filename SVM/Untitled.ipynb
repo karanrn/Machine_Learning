{
 "cells": [
  {
   "cell_type": "code",
   "execution_count": 60,
   "metadata": {},
   "outputs": [
    {
     "name": "stdout",
     "output_type": "stream",
     "text": [
      "CCCTAGGTCTAATAGTCATCGTGTCTCCGAGGCACCGACAGGTTCACCGCGATTCCAGTCTACGAGCAAAGTCACTTAAATACCGCTACCCTCGCTCATT"
     ]
    }
   ],
   "source": [
    "import random\n",
    "random.randint(1,4)\n",
    "for i  in range(100):\n",
    "    x = random.randint(1,4)\n",
    "    if x == 1:\n",
    "        print('A',end=\"\")\n",
    "    elif x == 2:\n",
    "        print('C',end=\"\")\n",
    "    elif x == 3:\n",
    "        print('G',end=\"\")\n",
    "    else:\n",
    "        print('T',end=\"\")"
   ]
  }
 ],
 "metadata": {
  "kernelspec": {
   "display_name": "Python 3",
   "language": "python",
   "name": "python3"
  },
  "language_info": {
   "codemirror_mode": {
    "name": "ipython",
    "version": 3
   },
   "file_extension": ".py",
   "mimetype": "text/x-python",
   "name": "python",
   "nbconvert_exporter": "python",
   "pygments_lexer": "ipython3",
   "version": "3.5.2"
  }
 },
 "nbformat": 4,
 "nbformat_minor": 2
}
