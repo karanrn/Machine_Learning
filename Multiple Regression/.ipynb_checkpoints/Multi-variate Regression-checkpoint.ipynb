{
 "cells": [
  {
   "cell_type": "markdown",
   "metadata": {},
   "source": [
    "## Multiple Regression\n",
    "Multiple regression is used when the outcome is dependent on more than one indepedent variables. More the features better the prediction or understanding of your data for prediction.<br>\n",
    "It is as simple as equation with multiple variables unlike linear regression with one variable.<br>\n",
    "Below is the equation for dataset with multiple features or independent variable:<br>\n",
    "<pre>              <b>y = ax<sub>1</sub> + bx<sub>2</sub> + x<sub>3</sub> + c </b></pre>\n",
    "<br>\n",
    "Example:<br><pre>  <b>Price of house = 20000 + 3\\*No_of_BedRooms + 2\\*Size_of_house</b></pre>\n",
    "Now the price of house is dependent on Size and Number of bedrooms."
   ]
  }
 ],
 "metadata": {
  "kernelspec": {
   "display_name": "Python 3",
   "language": "python",
   "name": "python3"
  },
  "language_info": {
   "codemirror_mode": {
    "name": "ipython",
    "version": 3
   },
   "file_extension": ".py",
   "mimetype": "text/x-python",
   "name": "python",
   "nbconvert_exporter": "python",
   "pygments_lexer": "ipython3",
   "version": "3.5.2"
  }
 },
 "nbformat": 4,
 "nbformat_minor": 2
}
